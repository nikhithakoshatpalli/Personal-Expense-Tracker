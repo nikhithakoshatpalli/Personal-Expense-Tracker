{
  "nbformat": 4,
  "nbformat_minor": 0,
  "metadata": {
    "colab": {
      "provenance": [],
      "authorship_tag": "ABX9TyNEVbZoIOvmwOMrby4PtXLa",
      "include_colab_link": true
    },
    "kernelspec": {
      "name": "python3",
      "display_name": "Python 3"
    },
    "language_info": {
      "name": "python"
    }
  },
  "cells": [
    {
      "cell_type": "markdown",
      "metadata": {
        "id": "view-in-github",
        "colab_type": "text"
      },
      "source": [
        "<a href=\"https://colab.research.google.com/github/nikhithakoshatpalli/Personal-Expense-Tracker/blob/main/Personal_Expense_Tracker_.ipynb\" target=\"_parent\"><img src=\"https://colab.research.google.com/assets/colab-badge.svg\" alt=\"Open In Colab\"/></a>"
      ]
    },
    {
      "cell_type": "code",
      "execution_count": null,
      "metadata": {
        "colab": {
          "base_uri": "https://localhost:8080/"
        },
        "id": "1N7cDW9T_5ep",
        "outputId": "a6cc801d-ff87-4630-bd4a-bbf1a0681a1b"
      },
      "outputs": [
        {
          "output_type": "stream",
          "name": "stdout",
          "text": [
            "===== Personal Expense Tracker =====\n",
            "1. Add Expense\n",
            "2. View Summary\n",
            "3. Exit\n",
            "Enter your choice (1-3): 1\n",
            "Enter amount: Rs250\n",
            "Enter category (e.g., Food, Transport, etc.): food\n",
            "Enter date (YYYY-MM-DD) or leave empty for today: 2025-8-24\n",
            "Expense added successfully!\n",
            "\n",
            "===== Personal Expense Tracker =====\n",
            "1. Add Expense\n",
            "2. View Summary\n",
            "3. Exit\n",
            "Enter your choice (1-3): 2\n",
            "\n",
            "Summary by Category:\n",
            "food: Rs250.00\n",
            "\n",
            "Total Spending: Rs250.00\n",
            "\n",
            "===== Personal Expense Tracker =====\n",
            "1. Add Expense\n",
            "2. View Summary\n",
            "3. Exit\n",
            "Enter your choice (1-3): 3\n",
            "Exiting... Bye!\n"
          ]
        }
      ],
      "source": [
        "import json\n",
        "from datetime import datetime\n",
        "\n",
        "FILENAME = 'expense.json'\n",
        "\n",
        "# Load expenses from file\n",
        "def load_expenses():\n",
        "    try:\n",
        "        with open(FILENAME, 'r') as f:\n",
        "            return json.load(f)\n",
        "    except FileNotFoundError:\n",
        "        return []\n",
        "\n",
        "# Save expenses to file\n",
        "def save_expenses(expenses):\n",
        "    with open(FILENAME, 'w') as f:\n",
        "        json.dump(expenses, f, indent=4)\n",
        "\n",
        "# Adding Expense function\n",
        "def add_expense(expenses):\n",
        "    try:\n",
        "        amount = float(input(\"Enter amount: Rs\"))\n",
        "        category = input(\"Enter category (e.g., Food, Transport, etc.): \")\n",
        "        date_input = input(\"Enter date (YYYY-MM-DD) or leave empty for today: \").strip()\n",
        "\n",
        "        if date_input:\n",
        "            date = datetime.strptime(date_input, '%Y-%m-%d').strftime('%Y-%m-%d')\n",
        "        else:\n",
        "            date = datetime.now().strftime('%Y-%m-%d')\n",
        "\n",
        "        expense = {\n",
        "            \"amount\": amount,\n",
        "            \"category\": category,\n",
        "            \"date\": date\n",
        "        }\n",
        "        expenses.append(expense)\n",
        "        save_expenses(expenses)\n",
        "        print(\"Expense added successfully!\\n\")\n",
        "\n",
        "    except ValueError:\n",
        "        print(\"Invalid input. Try again.\\n\")\n",
        "\n",
        "# Viewing summary\n",
        "def view_summary(expenses):\n",
        "    if not expenses:\n",
        "        print(\"No expenses to show.\\n\")\n",
        "        return\n",
        "\n",
        "    total = 0\n",
        "    category_totals = {}\n",
        "\n",
        "    for exp in expenses:\n",
        "        amt = exp[\"amount\"]\n",
        "        cat = exp[\"category\"]\n",
        "        total += amt\n",
        "        category_totals[cat] = category_totals.get(cat, 0) + amt\n",
        "\n",
        "    print(\"\\nSummary by Category:\")\n",
        "    for cat, amt in category_totals.items():\n",
        "        print(f\"{cat}: Rs{amt:.2f}\")\n",
        "\n",
        "    print(f\"\\nTotal Spending: Rs{total:.2f}\\n\")\n",
        "\n",
        "# User menu system\n",
        "def main():\n",
        "    expenses = load_expenses()\n",
        "    while True:\n",
        "        print(\"===== Personal Expense Tracker =====\")\n",
        "        print(\"1. Add Expense\")\n",
        "        print(\"2. View Summary\")\n",
        "        print(\"3. Exit\")\n",
        "\n",
        "        choice = input(\"Enter your choice (1-3): \")\n",
        "        if choice == '1':\n",
        "            add_expense(expenses)\n",
        "        elif choice == '2':\n",
        "            view_summary(expenses)\n",
        "        elif choice == '3':\n",
        "            print(\"Exiting... Bye!\")\n",
        "            break\n",
        "        else:\n",
        "            print(\"Invalid choice. Try again.\\n\")\n",
        "\n",
        "# Running the program\n",
        "if __name__ == \"__main__\":\n",
        "    main()\n",
        "\n",
        "\n",
        "\n",
        "\n"
      ]
    }
  ]
}